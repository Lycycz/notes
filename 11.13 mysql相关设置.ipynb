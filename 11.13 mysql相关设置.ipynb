{
 "cells": [
  {
   "cell_type": "markdown",
   "metadata": {},
   "source": [
    "# mysql相关设置\n",
    "\n",
    "## 数据库设置为utf8\n",
    "\n",
    "1、 mysql -u root -p（进入mysql的命令行模式）  \n",
    "2、 use test（数据库名）  \n",
    "3、 \\s（查看编码）    \n",
    "\n",
    "## 解决UnicodeEncodeError: 'latin-1' codec can't encode characters\n",
    "\n",
    "Lib\\site-packages\\pymysql安装目录，使用文本编辑器（如notepad++）打开connections.py  \n",
    "    def __init__(self, host=None, user=None, password=\"\",  \n",
    "                 database=None, port=0, unix_socket=None,  \n",
    "                 charset='utf8', sql_mode=None,  \n",
    "                 read_default_file=None, conv=None, use_unicode=None,  \n",
    "                 client_flag=0, cursorclass=Cursor, init_command=None,  \n",
    "                 connect_timeout=10, ssl=None, read_default_group=None,  \n",
    "                 compress=None, named_pipe=None, no_delay=None,  \n",
    "                 autocommit=False, db=None, passwd=None, local_infile=False,  \n",
    "                 max_allowed_packet=16*1024*1024, defer_connect=False,  \n",
    "                 auth_plugin_map={}, read_timeout=None, write_timeout=None,  \n",
    "                 bind_address=None):  \n",
    "                 \n",
    "### charset='utf8'设置为需要的字符集\n",
    "\n",
    "## dos中显示为乱码的问题\n",
    "输入命令：  \n",
    "show variables like 'char%';  \n",
    "\n",
    "character_set_results 这项为 查询结果显示的字符集  \n",
    "如果使用utf8字符编码来显示中文数据的，但是因为操作系统是中文操作系统，默认使用的字符集是GB2312，所以需要把输出窗口使用的字符编码改成gb2312才能够正常显示中文。   \n",
    "使用如下的命令设置输出窗口使用的字符编码：  \n",
    "set character_set_results=gb2312;  "
   ]
  }
 ],
 "metadata": {
  "kernelspec": {
   "display_name": "Python 3",
   "language": "python",
   "name": "python3"
  },
  "language_info": {
   "codemirror_mode": {
    "name": "ipython",
    "version": 3
   },
   "file_extension": ".py",
   "mimetype": "text/x-python",
   "name": "python",
   "nbconvert_exporter": "python",
   "pygments_lexer": "ipython3",
   "version": "3.6.3"
  }
 },
 "nbformat": 4,
 "nbformat_minor": 2
}
