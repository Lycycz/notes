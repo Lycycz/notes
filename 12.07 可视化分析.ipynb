{
 "cells": [
  {
   "cell_type": "code",
   "execution_count": 1,
   "metadata": {
    "collapsed": true
   },
   "outputs": [
    {
     "data": {
      "image/png": "[encoded data removed]",
      "text/plain": [
       "<matplotlib.figure.Figure at 0x235f7403860>"
      ]
     },
     "metadata": {},
     "output_type": "display_data"
    }
   ],
   "source": [
    "# 折线图\n",
    "import matplotlib.pylab as pyl\n",
    "\n",
    "x = [1, 2, 3, 4, 8]\n",
    "y = [5, 7, 2, 1, 5]\n",
    "# plot(x轴数据，y轴数据，展现形式）\n",
    "# 默认折线图\n",
    "pyl.plot(x,y)\n",
    "pyl.show()"
   ]
  },
  {
   "cell_type": "code",
   "execution_count": 2,
   "metadata": {
    "collapsed": true
   },
   "outputs": [
    {
     "data": {
      "image/png": "[encoded data removed]",
      "text/plain": [
       "<matplotlib.figure.Figure at 0x235f81da2e8>"
      ]
     },
     "metadata": {},
     "output_type": "display_data"
    }
   ],
   "source": [
    "# 散点图\n",
    "pyl.plot(x,y,'o')\n",
    "pyl.show()"
   ]
  },
  {
   "cell_type": "markdown",
   "metadata": {},
   "source": [
    "### 参数设置：https://www.cnblogs.com/webary/p/5813855.html\n",
    "  \n",
    "颜色（color 简写为 c）：  \n",
    "蓝色： 'b' (blue)  \n",
    "绿色： 'g' (green)  \n",
    "红色： 'r' (red)  \n",
    "蓝绿色(墨绿色)： 'c' (cyan)  \n",
    "红紫色(洋红)： 'm' (magenta)  \n",
    "黄色： 'y' (yellow)  \n",
    "黑色： 'k' (black)  \n",
    "白色： 'w' (white)  \n",
    "\n",
    "线型（linestyle 简写为 ls）：  \n",
    "实线： '-'  \n",
    "虚线： '--'  \n",
    "虚点线： '-.'  \n",
    "点线： ':'  \n",
    "点： '.'   \n",
    "\n",
    "点型（标记marker）：  \n",
    "像素： ','  \n",
    "圆形： 'o'  \n",
    "上三角： '^'  \n",
    "下三角： 'v'  \n",
    "左三角： '<'  \n",
    "右三角： '>'  \n",
    "方形： 's'  \n",
    "加号： '+'   \n",
    "叉形： 'x'  \n",
    "棱形： 'D'  \n",
    "细棱形： 'd'  \n",
    "三脚架朝下： '1'（像'丫'）  \n",
    "三脚架朝上： '2'  \n",
    "三脚架朝左： '3'  \n",
    "三脚架朝右： '4'  \n",
    "六角形： 'h'  \n",
    "旋转六角形： 'H'  \n",
    "五角形： 'p'  \n",
    "垂直线： '|'  \n",
    "水平线： '_'  "
   ]
  },
  {
   "cell_type": "markdown",
   "metadata": {},
   "source": [
    "#  随机数生成\n",
    "  \n",
    "npy.random.normal(最小值,最大值,个数)"
   ]
  },
  {
   "cell_type": "code",
   "execution_count": 2,
   "metadata": {},
   "outputs": [
    {
     "data": {
      "text/plain": [
       "array([-47.23208935,  14.36788325,  25.77972632, -32.85313318,\n",
       "         8.08726159, -43.76619719,  24.34198182,  14.21549898,\n",
       "       -18.00186747, -50.82217056, -14.93108691,  -1.54514636,\n",
       "         4.27472182, -41.78081103, -17.75317106,  -9.06758259,\n",
       "        48.49133108,  28.45212775,  33.61626022,   8.9036955 ,\n",
       "        29.13646495,  -7.89703508, -44.31471333,   3.82691076,\n",
       "        17.68923631, -11.65114634,  38.10182272,  55.75275653,\n",
       "       -64.98884086, -26.96470986, -29.56100107,  12.44460338,\n",
       "       -12.32254939, -81.93428453,  60.37704224, -17.37552205,\n",
       "       -18.92884507,  -1.56945509, -38.16574186,   1.61132182,\n",
       "        43.66180454,  30.13769078,   9.089426  ,  -2.41147178,\n",
       "        34.57740011,  -5.77478851,  -3.0319109 , -13.87356827,\n",
       "        33.81848518,   7.59919663, -31.03405208,  20.11114457,\n",
       "       -31.02855012,  56.18068109,  -9.94314334,  56.64387914,\n",
       "         2.77399775,   2.83569506, -21.72690912,  23.97282668,\n",
       "         3.63352595,  10.91568405,  49.26105379, -59.3366462 ,\n",
       "        -1.2693394 , -25.54770159,  24.26522826,  14.91168383,\n",
       "       -13.06308416, -11.69763544,  14.18209659,  46.96960204,\n",
       "       -55.53642579,  21.92557162, -26.4276219 ,  35.93114345,\n",
       "         6.20017982,  -5.32633527,   0.72979024, -41.50964213,\n",
       "        17.17787533,  32.15718001,   0.81508757,  27.59470736,\n",
       "       -16.16125453,  -7.75779344,  22.29270011, -34.97180841,\n",
       "        -5.64786913,  54.35622124, -29.89001584,   6.64832814,\n",
       "        29.42785016,   1.34394908,  -3.43539511, -98.03033674,\n",
       "         9.22048598,  51.12834705,  33.15264579,   4.30980758])"
      ]
     },
     "execution_count": 2,
     "metadata": {},
     "output_type": "execute_result"
    }
   ],
   "source": [
    "import numpy as npy\n",
    "\n",
    "data2 = npy.random.normal(1,30,100)\n",
    "data2"
   ]
  },
  {
   "cell_type": "code",
   "execution_count": 8,
   "metadata": {},
   "outputs": [
    {
     "data": {
      "text/plain": [
       "array([25,  1, 14,  6, 25, 17,  8, 28, 21,  9])"
      ]
     },
     "execution_count": 8,
     "metadata": {},
     "output_type": "execute_result"
    }
   ],
   "source": [
    "data2 = npy.random.randint(1,30,10)\n",
    "data2"
   ]
  },
  {
   "cell_type": "code",
   "execution_count": 12,
   "metadata": {},
   "outputs": [
    {
     "name": "stderr",
     "output_type": "stream",
     "text": [
      "E:\\anaconda3\\lib\\site-packages\\ipykernel_launcher.py:1: DeprecationWarning: This function is deprecated. Please call randint(1, 30 + 1) instead\n",
      "  \"\"\"Entry point for launching an IPython kernel.\n"
     ]
    },
    {
     "data": {
      "text/plain": [
       "array([25, 10, 13, 21,  6,  9, 24, 25, 29,  4, 14, 21,  9, 21, 15,  9, 16,\n",
       "        8, 26,  1, 14,  7, 26, 20,  4, 10, 10, 24,  6, 23, 11, 16, 19,  1,\n",
       "       13,  3, 17, 20, 19, 18, 20,  7, 27, 22, 22, 26, 10, 12, 12, 10,  2,\n",
       "       30, 12,  7,  5, 30, 22,  3, 30,  5,  6, 14, 18, 23, 20, 25, 10,  5,\n",
       "       15, 27, 28, 26, 18,  5,  7, 17, 28, 30, 15,  7, 24, 19, 20,  6,  1,\n",
       "       13, 11, 25,  3, 23, 13, 18, 29, 24,  9, 11, 22, 11, 12,  9])"
      ]
     },
     "execution_count": 12,
     "metadata": {},
     "output_type": "execute_result"
    }
   ],
   "source": [
    "data2=npy.random.random_integers(1,30,100)\n",
    "data2"
   ]
  },
  {
   "cell_type": "code",
   "execution_count": 13,
   "metadata": {},
   "outputs": [
    {
     "data": {
      "image/png": "[encoded data removed]",
      "text/plain": [
       "<matplotlib.figure.Figure at 0x16e50b232e8>"
      ]
     },
     "metadata": {},
     "output_type": "display_data"
    }
   ],
   "source": [
    "# 直方图\n",
    "import matplotlib.pylab as pyl\n",
    "\n",
    "pyl.hist(data2)\n",
    "pyl.show()"
   ]
  },
  {
   "cell_type": "code",
   "execution_count": 16,
   "metadata": {},
   "outputs": [
    {
     "data": {
      "image/png": "[encoded data removed]",
      "text/plain": [
       "<matplotlib.figure.Figure at 0x16e511f17f0>"
      ]
     },
     "metadata": {},
     "output_type": "display_data"
    }
   ],
   "source": [
    "# 子图\n",
    "# subplot(行，列，当前区域)\n",
    "\n",
    "x = [1, 2, 3, 4, 8]\n",
    "y = [5, 7, 2, 1, 5]\n",
    "# 两行两列第一个位置\n",
    "pyl.subplot(2,2,1)\n",
    "pyl.plot(x,y)\n",
    "# 两行两列第二个位置\n",
    "pyl.subplot(2,2,2)\n",
    "pyl.plot(x,y)\n",
    "x1 = [1,4,6,9]\n",
    "y1 = [3,21,21,32]\n",
    "# 两行一列第二个位置\n",
    "pyl.subplot(2,1,2)\n",
    "pyl.plot(x1,y1)\n",
    "pyl.show()"
   ]
  },
  {
   "cell_type": "markdown",
   "metadata": {},
   "source": [
    "## 读取和讯博客的数据，并进行可视化分析"
   ]
  },
  {
   "cell_type": "code",
   "execution_count": 17,
   "metadata": {},
   "outputs": [
    {
     "data": {
      "image/png": "[encoded data removed]",
      "text/plain": [
       "<matplotlib.figure.Figure at 0x16e51b7c160>"
      ]
     },
     "metadata": {},
     "output_type": "display_data"
    }
   ],
   "source": [
    "import pandas as pda\n",
    "import pymysql\n",
    "\n",
    "conn = pymysql.connect(host='127.0.0.1', user='root', passwd='root', db='hexun')\n",
    "sql = 'select * from myhexun'\n",
    "data = pda.read_sql(sql, conn)\n",
    "# 不方便取一列数据，将数据转制\n",
    "dt = data.T\n",
    "hits = dt.values[3]\n",
    "com = dt.values[4]\n",
    "pyl.plot(hits, com, 'o')\n",
    "pyl.show()"
   ]
  }
 ],
 "metadata": {
  "kernelspec": {
   "display_name": "Python 3",
   "language": "python",
   "name": "python3"
  },
  "language_info": {
   "codemirror_mode": {
    "name": "ipython",
    "version": 3
   },
   "file_extension": ".py",
   "mimetype": "text/x-python",
   "name": "python",
   "nbconvert_exporter": "python",
   "pygments_lexer": "ipython3",
   "version": "3.6.3"
  }
 },
 "nbformat": 4,
 "nbformat_minor": 2
}
