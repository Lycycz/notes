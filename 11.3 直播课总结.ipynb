{
 "cells": [
  {
   "cell_type": "markdown",
   "metadata": {},
   "source": [
    "# 直播课总结\n",
    "\n",
    "## 列表生成器"
   ]
  },
  {
   "cell_type": "code",
   "execution_count": 1,
   "metadata": {},
   "outputs": [
    {
     "name": "stdout",
     "output_type": "stream",
     "text": [
      "[10, 2, 3, 4, 10, 9, 2]\n",
      "[10, 2, 3, 4, 10, 9, 2]\n"
     ]
    }
   ],
   "source": [
    "from random import randint\n",
    "\n",
    "l = [randint(-10, 10) for _ in range(10)]\n",
    "a = [item for item in l if item >= 0]\n",
    "print(a)\n",
    "#filter()函数接收一个函数 f 和一个list，这个函数 f 的作用是对每个元素进行判断，返回 True或 False，filter()根据判断结果自动过滤掉不符合条件的元素，返回由符合条件元素组成的新list。\n",
    "b = filter(lambda x: x > 0, l)\n",
    "print(list(b))"
   ]
  },
  {
   "cell_type": "markdown",
   "metadata": {},
   "source": [
    "## 元组可变的情况\n",
    "\n",
    "若元组内存储的是可变元素则会导致元组改变"
   ]
  },
  {
   "cell_type": "code",
   "execution_count": 2,
   "metadata": {},
   "outputs": [
    {
     "name": "stdout",
     "output_type": "stream",
     "text": [
      "('a', ['b', 'c'])\n",
      "('a', ['b', 'd'])\n"
     ]
    }
   ],
   "source": [
    "b=('a',['b','c'])\n",
    "print(b)\n",
    "b[1][1]='d'\n",
    "print(b)"
   ]
  },
  {
   "cell_type": "markdown",
   "metadata": {},
   "source": [
    "### 元组的简便拆包"
   ]
  },
  {
   "cell_type": "code",
   "execution_count": 3,
   "metadata": {},
   "outputs": [
    {
     "name": "stdout",
     "output_type": "stream",
     "text": [
      "a\n",
      "['b', 'c']\n"
     ]
    }
   ],
   "source": [
    "b=('a',['b','c'])\n",
    "key1,key2=b\n",
    "print(key1)\n",
    "print(key2)"
   ]
  },
  {
   "cell_type": "markdown",
   "metadata": {},
   "source": [
    "## import的使用习惯"
   ]
  },
  {
   "cell_type": "code",
   "execution_count": null,
   "metadata": {
    "collapsed": true
   },
   "outputs": [],
   "source": [
    "#建议使用的方式\n",
    "from urllib import request\n",
    "#可以直接使用request.urlopen()而不是urllib.request.urlopen()"
   ]
  },
  {
   "cell_type": "markdown",
   "metadata": {},
   "source": [
    "## 打开文件的方式，不用添加关闭文件的代码"
   ]
  },
  {
   "cell_type": "code",
   "execution_count": null,
   "metadata": {
    "collapsed": true
   },
   "outputs": [],
   "source": [
    "with open('文件路径') as file\n",
    "    data=file.read()"
   ]
  },
  {
   "cell_type": "markdown",
   "metadata": {},
   "source": [
    "## 有序字典"
   ]
  },
  {
   "cell_type": "code",
   "execution_count": 3,
   "metadata": {},
   "outputs": [
    {
     "name": "stdout",
     "output_type": "stream",
     "text": [
      "{0: 90, 1: 74, 2: 53, 3: 33, 4: 79, 5: 93, 6: 5, 7: 2, 8: 7, 9: 86}\n"
     ]
    }
   ],
   "source": [
    "from collections import OrderedDict\n",
    "from random import randint\n",
    "\n",
    "dic=OrderedDict()\n",
    "dic = {num:randint(1,100) for num in range(10)}\n",
    "print(dic)\n",
    "    "
   ]
  },
  {
   "cell_type": "markdown",
   "metadata": {},
   "source": [
    "## python中的计时器：timeit"
   ]
  },
  {
   "cell_type": "code",
   "execution_count": 6,
   "metadata": {
    "scrolled": false
   },
   "outputs": [
    {
     "name": "stdout",
     "output_type": "stream",
     "text": [
      "0.014493607185812607\n",
      "2.6175921163940075e-07\n",
      "0.0004897514727133512\n",
      "0.051636453110418756\n"
     ]
    }
   ],
   "source": [
    "#导入timeit.timeit\n",
    "from timeit import timeit  \n",
    "\n",
    "#看执行1000000次x=1的时间：\n",
    "print(timeit('x=1'))\n",
    "\n",
    "#看x=1的执行时间，执行1次(number可以省略，默认值为1000000)：\n",
    "print(timeit('x=1', number=1))\n",
    "\n",
    "#看一个列表生成器的执行时间,执行1次：\n",
    "print(timeit('[i for i in range(10000)]', number=1))\n",
    "\n",
    "#看一个列表生成器的执行时间,执行10000次：\n",
    "print(timeit('[i for i in range(100) if i%2==0]', number=10000))"
   ]
  }
 ],
 "metadata": {
  "kernelspec": {
   "display_name": "Python 3",
   "language": "python",
   "name": "python3"
  },
  "language_info": {
   "codemirror_mode": {
    "name": "ipython",
    "version": 3
   },
   "file_extension": ".py",
   "mimetype": "text/x-python",
   "name": "python",
   "nbconvert_exporter": "python",
   "pygments_lexer": "ipython3",
   "version": "3.6.3"
  }
 },
 "nbformat": 4,
 "nbformat_minor": 2
}
