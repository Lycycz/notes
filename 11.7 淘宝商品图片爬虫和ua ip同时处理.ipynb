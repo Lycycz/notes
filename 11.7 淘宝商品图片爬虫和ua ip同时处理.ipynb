{
 "cells": [
  {
   "cell_type": "markdown",
   "metadata": {},
   "source": [
    "# 淘宝商品图片爬虫"
   ]
  },
  {
   "cell_type": "markdown",
   "metadata": {},
   "source": [
    "## 淘宝搜索商品网址规律\n",
    "\n",
    "https://s.taobao.com/search?q=关键词&s={页数-1}*44\n",
    "\n",
    "## 图片网址规律\n",
    "\n",
    "http://g-search3.alicdn.com/img/图片.jpg"
   ]
  },
  {
   "cell_type": "code",
   "execution_count": null,
   "metadata": {
    "collapsed": true
   },
   "outputs": [],
   "source": [
    "from urllib import request\n",
    "import re\n",
    "import random\n",
    "keyname=\"连衣裙\"\n",
    "#由于网址不能出现中文，进行转码\n",
    "key=request.quote(keyname)\n",
    "\n",
    "uapools=[\n",
    "    \"Mozilla/5.0 (Windows NT 6.1; WOW64) AppleWebKit/537.36 (KHTML, like Gecko) Chrome/50.0.2661.87 Safari/537.36\",\n",
    "    \"Mozilla/5.0 (Windows NT 6.1; WOW64; rv:46.0) Gecko/20100101 Firefox/46.0\",\n",
    "    \"Mozilla/5.0 (Windows NT 6.1; WOW64) AppleWebKit/537.36 (KHTML, like Gecko) Chrome/50.0.2661.87 Safari/537.36 OPR/37.0.2178.32\",\n",
    "         ]\n",
    "def ua(uapools):\n",
    "    thisua=random.choice(uapools)\n",
    "    print(thisua)\n",
    "    headers=(\"User-Agent\",thisua)\n",
    "    opener=request.build_opener()\n",
    "    opener.add_headers=[headers]\n",
    "    #安装为全局\n",
    "    request.install_opener(opener)\n",
    "\n",
    "for i in range(1,101):\n",
    "    url='https://s.taobao.com/search?q='+key+'&s='+str((i-1)*44)\n",
    "    ua(uapools)\n",
    "    data=request.urlopen(url).read().decode('utf-8','ignore')\n",
    "    pat='\"pic_url\":\"//(.*?)\"'\n",
    "    imglist=re.compile(pat).findall(data)\n",
    "    for j in range(0,len(imglist)):\n",
    "        thisimg=imglist[j]\n",
    "        thisimgurl='http://'+thisimg\n",
    "        localfile='.\\\\'+str(i)+str(j)+'.jpg'\n",
    "        request.urlretrieve(thisimgurl,localfile)"
   ]
  },
  {
   "cell_type": "markdown",
   "metadata": {},
   "source": [
    "# 同时使用用户代理池和IP代理池"
   ]
  },
  {
   "cell_type": "code",
   "execution_count": null,
   "metadata": {
    "collapsed": true
   },
   "outputs": [],
   "source": [
    "#将ip代理池和用户代理池合并\n",
    "from urllib import request\n",
    "import re\n",
    "import random\n",
    "\n",
    "def ua_ip(myurl):\n",
    "    uapools=[\n",
    "        \"Mozilla/5.0 (Windows NT 6.1; WOW64) AppleWebKit/537.36 (KHTML, like Gecko) Chrome/50.0.2661.87 Safari/537.36\",\n",
    "        \"Mozilla/5.0 (Windows NT 6.1; WOW64; rv:46.0) Gecko/20100101 Firefox/46.0\",\n",
    "        \"Mozilla/5.0 (Windows NT 6.1; WOW64) AppleWebKit/537.36 (KHTML, like Gecko) Chrome/50.0.2661.87 Safari/537.36 OPR/37.0.2178.32\",\n",
    "             ]\n",
    "    def api():\n",
    "        print('这一次调用了接口')\n",
    "        thisall=request.urlopen(\"http://tvp.daxiangdaili.com/ip/?tid=558658506836506&num=10\")\n",
    "        print(thisall)\n",
    "        ippools=[]\n",
    "        for item in thisall:\n",
    "            #print(item.decode('utf-8','ignore'))\n",
    "            ippools.append(item.decode('utf-8','ignore'))\n",
    "        return ippools\n",
    "    def ip(ippools,time,uapools):\n",
    "        thisua=random.choice(uapools)\n",
    "        print(thisua)\n",
    "        headers=(\"User-Agent\",thisua)\n",
    "        thisip=ippools[time]\n",
    "        print(thisip)\n",
    "        proxy=request.ProxyHandler({\"http\":thisip})\n",
    "        opener=request.build_opener(proxy,request.HTTPHandler)\n",
    "        opener.add_headers=[headers]\n",
    "        request.install_opener(opener)\n",
    "    x=0\n",
    "    for i in range(0,35):\n",
    "        try:\n",
    "            if(x%10==0):\n",
    "                time=x%10\n",
    "                ippools=api()\n",
    "                ip(ippools,time,uapools)\n",
    "            else:\n",
    "                time=x%10\n",
    "                ip(ippools,time,uapools)\n",
    "            url=myurl\n",
    "            data=request.urlopen(url).read().decode('utf-8','ignore')\n",
    "            print(len(data))\n",
    "            x+=1\n",
    "            break\n",
    "        except Exception as err:\n",
    "            print(err)\n",
    "            x+=1\n",
    "    return data\n",
    "ua_ip('http://www.baidu.com')"
   ]
  }
 ],
 "metadata": {
  "kernelspec": {
   "display_name": "Python 3",
   "language": "python",
   "name": "python3"
  },
  "language_info": {
   "codemirror_mode": {
    "name": "ipython",
    "version": 3
   },
   "file_extension": ".py",
   "mimetype": "text/x-python",
   "name": "python",
   "nbconvert_exporter": "python",
   "pygments_lexer": "ipython3",
   "version": "3.6.3"
  }
 },
 "nbformat": 4,
 "nbformat_minor": 2
}
