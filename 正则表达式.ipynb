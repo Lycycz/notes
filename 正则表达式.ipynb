{
 "cells": [
  {
   "cell_type": "markdown",
   "metadata": {},
   "source": [
    "# 元字符"
   ]
  },
  {
   "cell_type": "raw",
   "metadata": {},
   "source": [
    ". 除换行以外的任意字符\n",
    "^ 匹配开始位置\n",
    "$ 匹配结束位置\n",
    "* 一个字符出现0次，1次或多次\n",
    "? 一个字符出现0次或1次\n",
    "+ 一个字符出现1次或多次\n",
    "{n} 字符恰好出现n次\n",
    "{n,} 至少n次\n",
    "{n,m} 至少n次，至多m次"
   ]
  },
  {
   "cell_type": "markdown",
   "metadata": {},
   "source": [
    "# 模式修正符"
   ]
  },
  {
   "cell_type": "raw",
   "metadata": {},
   "source": [
    "I 忽略大小写\n",
    "M 多行匹配\n",
    "L 本利化识别匹配\n",
    "U unicode\n",
    "S 让.匹配换行"
   ]
  },
  {
   "cell_type": "code",
   "execution_count": 5,
   "metadata": {},
   "outputs": [
    {
     "name": "stdout",
     "output_type": "stream",
     "text": [
      "<_sre.SRE_Match object; span=(0, 6), match='Python'>\n"
     ]
    }
   ],
   "source": [
    "import re\n",
    "string='Python'\n",
    "pat='p.*'\n",
    "rst=re.search(pat,string,re.I)\n",
    "print(rst)"
   ]
  },
  {
   "cell_type": "code",
   "execution_count": 6,
   "metadata": {},
   "outputs": [
    {
     "name": "stdout",
     "output_type": "stream",
     "text": [
      "<_sre.SRE_Match object; span=(0, 1), match='P'>\n"
     ]
    }
   ],
   "source": [
    "pat='^p{1,2}'\n",
    "rst=re.search(pat,string,re.I)\n",
    "print(rst)"
   ]
  },
  {
   "cell_type": "markdown",
   "metadata": {},
   "source": [
    "# 贪婪模式与懒惰模式"
   ]
  },
  {
   "cell_type": "markdown",
   "metadata": {},
   "source": [
    "贪婪模式：尽可能多的匹配\n",
    "懒惰模式：尽可能少的匹配"
   ]
  },
  {
   "cell_type": "code",
   "execution_count": 9,
   "metadata": {},
   "outputs": [
    {
     "name": "stdout",
     "output_type": "stream",
     "text": [
      "<_sre.SRE_Match object; span=(0, 6), match='Python'>\n",
      "<_sre.SRE_Match object; span=(0, 1), match='P'>\n"
     ]
    }
   ],
   "source": [
    "pat1='p.*'\n",
    "pat2='p.*?'\n",
    "rst1=re.search(pat1,string,re.I)\n",
    "rst2=re.search(pat2,string,re.I)\n",
    "print(rst1)\n",
    "print(rst2)"
   ]
  },
  {
   "cell_type": "markdown",
   "metadata": {},
   "source": [
    "# 正则表达式函数"
   ]
  },
  {
   "cell_type": "markdown",
   "metadata": {},
   "source": [
    "re.match() 从头开始匹配"
   ]
  },
  {
   "cell_type": "code",
   "execution_count": 11,
   "metadata": {},
   "outputs": [
    {
     "name": "stdout",
     "output_type": "stream",
     "text": [
      "<_sre.SRE_Match object; span=(0, 6), match='Python'>\n",
      "None\n"
     ]
    }
   ],
   "source": [
    "pat3='p.*'\n",
    "pat4='y.*'\n",
    "rst1=re.match(pat3,string,re.I)\n",
    "rst2=re.match(pat4,string,re.I)\n",
    "print(rst1)\n",
    "print(rst2)"
   ]
  },
  {
   "cell_type": "markdown",
   "metadata": {},
   "source": [
    "re.search()从任意位置匹配"
   ]
  },
  {
   "cell_type": "markdown",
   "metadata": {},
   "source": [
    "全局匹配函数\n",
    "re.compile(正则表达式函数).findall(字符串)"
   ]
  },
  {
   "cell_type": "code",
   "execution_count": 12,
   "metadata": {},
   "outputs": [
    {
     "name": "stdout",
     "output_type": "stream",
     "text": [
      "['pay', 'pby', 'pcy']\n"
     ]
    }
   ],
   "source": [
    "str='paypbypcy'\n",
    "pat='p.{1}y'\n",
    "rst=re.compile(pat).findall(str)\n",
    "print(rst)"
   ]
  },
  {
   "cell_type": "markdown",
   "metadata": {},
   "source": [
    "# 匹配.com或者.cn网址"
   ]
  },
  {
   "cell_type": "code",
   "execution_count": 2,
   "metadata": {},
   "outputs": [
    {
     "name": "stdout",
     "output_type": "stream",
     "text": [
      "['http://www.baidu.com']\n"
     ]
    }
   ],
   "source": [
    "import re\n",
    "string=\"<a href='http://www.baidu.com'>百度首页</a>\"\n",
    "pat='[a-zA-Z]+://[^\\s]*[.com|.cn]'\n",
    "rst=re.compile(pat).findall(string)\n",
    "print(rst)"
   ]
  }
 ],
 "metadata": {
  "kernelspec": {
   "display_name": "Python 3",
   "language": "python",
   "name": "python3"
  },
  "language_info": {
   "codemirror_mode": {
    "name": "ipython",
    "version": 3
   },
   "file_extension": ".py",
   "mimetype": "text/x-python",
   "name": "python",
   "nbconvert_exporter": "python",
   "pygments_lexer": "ipython3",
   "version": "3.6.3"
  }
 },
 "nbformat": 4,
 "nbformat_minor": 2
}
