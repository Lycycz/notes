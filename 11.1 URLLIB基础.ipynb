{
 "cells": [
  {
   "cell_type": "markdown",
   "metadata": {},
   "source": [
    "# URLLIB基础"
   ]
  },
  {
   "cell_type": "markdown",
   "metadata": {},
   "source": [
    "## urlretrieve(网址，本地存储位置) 直接将网页下载到本地"
   ]
  },
  {
   "cell_type": "code",
   "execution_count": 2,
   "metadata": {
    "scrolled": false
   },
   "outputs": [
    {
     "data": {
      "text/plain": [
       "('E:\\\\git\\\\notes\\\\baidu.html', <http.client.HTTPMessage at 0x2c485c341d0>)"
      ]
     },
     "execution_count": 2,
     "metadata": {},
     "output_type": "execute_result"
    }
   ],
   "source": [
    "import urllib.request\n",
    "urllib.request.urlretrieve('http://www.baidu.com','E:\\\\git\\\\notes\\\\baidu.html')"
   ]
  },
  {
   "cell_type": "markdown",
   "metadata": {},
   "source": [
    "## urlcleanup() 清除缓存"
   ]
  },
  {
   "cell_type": "code",
   "execution_count": 3,
   "metadata": {
    "collapsed": true
   },
   "outputs": [],
   "source": [
    "urllib.request.urlcleanup()"
   ]
  },
  {
   "cell_type": "markdown",
   "metadata": {},
   "source": [
    "## info() 显示当前页面的基本信息（简介）"
   ]
  },
  {
   "cell_type": "code",
   "execution_count": 4,
   "metadata": {
    "scrolled": true
   },
   "outputs": [
    {
     "name": "stdout",
     "output_type": "stream",
     "text": [
      "Date: Wed, 01 Nov 2017 02:44:28 GMT\n",
      "Content-Type: text/html; charset=utf-8\n",
      "Content-Length: 61065\n",
      "Connection: close\n",
      "Vary: Accept-Encoding\n",
      "Expires: Sun, 1 Jan 2006 01:00:00 GMT\n",
      "Pragma: no-cache\n",
      "Cache-Control: must-revalidate, no-cache, private\n",
      "Set-Cookie: profile=\"deleted\"; max-age=0; domain=read.douban.com; expires=Thu, 01-Jan-1970 00:00:00 GMT; path=/\n",
      "Set-Cookie: bid=hc3iviBticc; Expires=Thu, 01-Nov-18 02:44:28 GMT; Domain=.douban.com; Path=/\n",
      "X-DOUBAN-NEWBID: hc3iviBticc\n",
      "X-DAE-Node: sindar4d\n",
      "X-DAE-App: ark\n",
      "Server: dae\n",
      "Strict-Transport-Security: max-age=15552000;\n",
      "X-Content-Type-Options: nosniff\n",
      "\n",
      "\n"
     ]
    }
   ],
   "source": [
    "file=urllib.request.urlopen('https://read.douban.com/provider/all')\n",
    "print(file.info())"
   ]
  },
  {
   "cell_type": "markdown",
   "metadata": {},
   "source": [
    "## getcode() 200为正常 可以检测是否为失效链接"
   ]
  },
  {
   "cell_type": "code",
   "execution_count": 5,
   "metadata": {},
   "outputs": [
    {
     "name": "stdout",
     "output_type": "stream",
     "text": [
      "200\n"
     ]
    }
   ],
   "source": [
    "print(file.getcode())"
   ]
  },
  {
   "cell_type": "markdown",
   "metadata": {},
   "source": [
    "## geturl() 得到当前网页的url"
   ]
  },
  {
   "cell_type": "code",
   "execution_count": 6,
   "metadata": {},
   "outputs": [
    {
     "name": "stdout",
     "output_type": "stream",
     "text": [
      "https://read.douban.com/provider/all\n"
     ]
    }
   ],
   "source": [
    "print(file.geturl())"
   ]
  },
  {
   "cell_type": "markdown",
   "metadata": {},
   "source": [
    "## 上面三个用已经爬到的信息\n",
    "file=urllib.request.urlopen('https://read.douban.com/provider/all')"
   ]
  },
  {
   "cell_type": "markdown",
   "metadata": {},
   "source": [
    "### 不用read()，直接用得到的二进制文件"
   ]
  },
  {
   "cell_type": "markdown",
   "metadata": {},
   "source": [
    "# 超时设置"
   ]
  },
  {
   "cell_type": "markdown",
   "metadata": {},
   "source": [
    "访问网页如果长时间未响应，就判断网页超时了，无法打开。要根据服务器的响应速度设置，合理设置可以提高效率"
   ]
  },
  {
   "cell_type": "code",
   "execution_count": 7,
   "metadata": {},
   "outputs": [
    {
     "name": "stdout",
     "output_type": "stream",
     "text": [
      "57982 57983 57983 57983 57986 57983 57982 57981 57985 57985 "
     ]
    }
   ],
   "source": [
    "import urllib.request\n",
    "for i in range(0,10):\n",
    "    file=urllib.request.urlopen('https://read.douban.com/provider/all',timeout=1)\n",
    "    try:\n",
    "        print(len(file.read().decode('utf-8')),end=' ')\n",
    "    except Exception as err:\n",
    "        print('error'+str(err),end=' ')"
   ]
  },
  {
   "cell_type": "markdown",
   "metadata": {},
   "source": [
    "## 包含异常处理，如果出现异常打印异常信息"
   ]
  }
 ],
 "metadata": {
  "kernelspec": {
   "display_name": "Python 3",
   "language": "python",
   "name": "python3"
  },
  "language_info": {
   "codemirror_mode": {
    "name": "ipython",
    "version": 3
   },
   "file_extension": ".py",
   "mimetype": "text/x-python",
   "name": "python",
   "nbconvert_exporter": "python",
   "pygments_lexer": "ipython3",
   "version": "3.6.3"
  }
 },
 "nbformat": 4,
 "nbformat_minor": 2
}
