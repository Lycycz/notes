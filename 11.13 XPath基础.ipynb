{
 "cells": [
  {
   "cell_type": "markdown",
   "metadata": {},
   "source": [
    "# Xpath\n",
    "\n",
    "## XPath与正则表达式对比\n",
    "\n",
    "1、XPath表达式效率会高一点  \n",
    "2、正则表达式功能会强大  \n",
    "3、一般来说，优先XPath，但是XPath解决不了的问题选择正则  "
   ]
  },
  {
   "cell_type": "markdown",
   "metadata": {},
   "source": [
    "## XPath基础\n",
    "\n",
    "/ 逐层提取  \n",
    "text() 提取标签下面的文本  \n",
    "//标签名  提取所有名为（标签名）的标签  \n",
    "//标签名[@属性='属性值'] 提取属性名为属性值的标签  \n",
    "@属性名 代表取某个属性  \n",
    "实例：  \n",
    "提取标题：/html/head/title  \n",
    "提取标题的文本：/html/head/title/text()  \n",
    "提取所有的div标签：//div  \n",
    "提取div中class=\"tools\"标签的内容：//div[@class='tools']\n",
    "\n",
    "//ul[@class='ddnewhead_operate_nav']/li/a/text()"
   ]
  }
 ],
 "metadata": {
  "kernelspec": {
   "display_name": "Python 3",
   "language": "python",
   "name": "python3"
  },
  "language_info": {
   "codemirror_mode": {
    "name": "ipython",
    "version": 3
   },
   "file_extension": ".py",
   "mimetype": "text/x-python",
   "name": "python",
   "nbconvert_exporter": "python",
   "pygments_lexer": "ipython3",
   "version": "3.6.3"
  }
 },
 "nbformat": 4,
 "nbformat_minor": 2
}
