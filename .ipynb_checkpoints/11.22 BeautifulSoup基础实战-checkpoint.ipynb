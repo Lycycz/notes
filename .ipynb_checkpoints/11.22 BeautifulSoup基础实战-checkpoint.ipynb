{
 "cells": [
  {
   "cell_type": "code",
   "execution_count": 1,
   "metadata": {
    "collapsed": true
   },
   "outputs": [
    {
     "name": "stdout",
     "output_type": "stream",
     "text": [
      "<html xmlns=\"http://www.w3.org/1999/xhtml\">\n",
      " <head>\n",
      "  <meta content=\"text/html; charset=utf-8\" http-equiv=\"Content-Type\"/>\n",
      "  <title>\n",
      "   韬云教育\n",
      "  </title>\n",
      "  <link href=\"http://cdn.static.runoob.com/libs/bootstrap/3.3.7/css/bootstrap.min.css\" rel=\"stylesheet\"/>\n",
      "  <script src=\"http://cdn.static.runoob.com/libs/jquery/2.1.1/jquery.min.js\">\n",
      "  </script>\n",
      "  <script src=\"http://cdn.static.runoob.com/libs/bootstrap/3.3.7/js/bootstrap.min.js\">\n",
      "  </script>\n",
      "  <link href=\"./css/mybs.css\" rel=\"stylesheet\"/>\n",
      " </head>\n",
      " <body>\n",
      "  <div class=\"container\">\n",
      "   <div class=\"row clearfix\">\n",
      "    <div class=\"col-md-12 column\">\n",
      "     <nav class=\"navbar navbar-default\" role=\"navigation\">\n",
      "      <div class=\"container-fluid\">\n",
      "       <div class=\"navbar-header\">\n",
      "        <button class=\"navbar-toggle\" data-target=\".navbar-collapse\" data-toggle=\"collapse\">\n",
      "         <span class=\"icon-bar\">\n",
      "         </span>\n",
      "         <span class=\"icon-bar\">\n",
      "         </span>\n",
      "         <span class=\"icon-bar\">\n",
      "         </span>\n",
      "        </button>\n",
      "        <a class=\"navbar-brand\" href=\"#\">\n",
      "         <img src=\"static/images/logo.png\" style=\"height: 50px;margin-top:-15px;\"/>\n",
      "        </a>\n",
      "       </div>\n",
      "       <div>\n",
      "        <ul class=\"nav navbar-nav\">\n",
      "         <li class=\"active\">\n",
      "          <a href=\"static/../index\">\n",
      "           韬云教育\n",
      "          </a>\n",
      "         </li>\n",
      "         <li>\n",
      "          <a href=\"static/../index_index_course\">\n",
      "           课程中心\n",
      "          </a>\n",
      "         </li>\n",
      "         <li>\n",
      "          <a href=\"static/../index_index_teacher\">\n",
      "           专家师资\n",
      "          </a>\n",
      "         </li>\n",
      "         <li>\n",
      "          <a href=\"/live/index.php\">\n",
      "           教学直播间\n",
      "          </a>\n",
      "         </li>\n",
      "         <li class=\"dropdown\">\n",
      "          <a class=\"dropdown-toggle\" data-toggle=\"dropdown\" href=\"#\">\n",
      "           联系我们\n",
      "           <b class=\"caret\">\n",
      "           </b>\n",
      "          </a>\n",
      "          <ul class=\"dropdown-menu\">\n",
      "           <li>\n",
      "            <a href=\"static/../index_index_company\">\n",
      "             公司资质\n",
      "            </a>\n",
      "           </li>\n",
      "           <li class=\"divider\">\n",
      "           </li>\n",
      "           <li>\n",
      "            <a href=\"static/../index_index_about\">\n",
      "             联系我们\n",
      "            </a>\n",
      "           </li>\n",
      "          </ul>\n",
      "         </li>\n",
      "        </ul>\n",
      "        <ul class=\"nav navbar-nav navbar-right\">\n",
      "         <li>\n",
      "          <a href=\"static/../index_user_register\">\n",
      "           注册\n",
      "          </a>\n",
      "         </li>\n",
      "         <li>\n",
      "          <a href=\"static/../index_user_login\">\n",
      "           登录\n",
      "          </a>\n",
      "         </li>\n",
      "        </ul>\n",
      "       </div>\n",
      "      </div>\n",
      "     </nav>\n",
      "    </div>\n",
      "   </div>\n",
      "  </div>\n",
      " </body>\n",
      "</html>\n",
      "<!--\r\n",
      "轮播开始\r\n",
      "-->\n",
      "\n"
     ]
    }
   ],
   "source": [
    "from bs4 import BeautifulSoup as bs\n",
    "from urllib import request\n",
    "data=request.urlopen(\"http://edu.iqianyue.com\").read().decode('utf-8','ignore')\n",
    "bs1=bs(data,'lxml')\n",
    "# 格式化输出\n",
    "print(bs1.prettify())"
   ]
  },
  {
   "cell_type": "markdown",
   "metadata": {},
   "source": [
    "## 获取标签"
   ]
  },
  {
   "cell_type": "code",
   "execution_count": 2,
   "metadata": {},
   "outputs": [
    {
     "name": "stdout",
     "output_type": "stream",
     "text": [
      "<title>韬云教育</title>\n"
     ]
    }
   ],
   "source": [
    "print(bs1.title)"
   ]
  },
  {
   "cell_type": "markdown",
   "metadata": {},
   "source": [
    "## 获取标签名"
   ]
  },
  {
   "cell_type": "code",
   "execution_count": 3,
   "metadata": {},
   "outputs": [
    {
     "name": "stdout",
     "output_type": "stream",
     "text": [
      "韬云教育\n"
     ]
    }
   ],
   "source": [
    "print(bs1.title.string)"
   ]
  },
  {
   "cell_type": "markdown",
   "metadata": {},
   "source": [
    "## 获取属性列表"
   ]
  },
  {
   "cell_type": "code",
   "execution_count": 4,
   "metadata": {},
   "outputs": [
    {
     "name": "stdout",
     "output_type": "stream",
     "text": [
      "{'href': '#', 'class': ['navbar-brand']}\n"
     ]
    }
   ],
   "source": [
    "print(bs1.a.attrs)"
   ]
  },
  {
   "cell_type": "markdown",
   "metadata": {},
   "source": [
    "## 获取某个属性的值"
   ]
  },
  {
   "cell_type": "code",
   "execution_count": 5,
   "metadata": {},
   "outputs": [
    {
     "name": "stdout",
     "output_type": "stream",
     "text": [
      "['navbar-brand']\n",
      "['navbar-brand']\n"
     ]
    }
   ],
   "source": [
    "print(bs1.a[\"class\"])\n",
    "print(bs1.a.get(\"class\"))"
   ]
  },
  {
   "cell_type": "markdown",
   "metadata": {},
   "source": [
    "## 提取所有某个节点的内容"
   ]
  },
  {
   "cell_type": "code",
   "execution_count": 6,
   "metadata": {},
   "outputs": [
    {
     "data": {
      "text/plain": [
       "[<a class=\"navbar-brand\" href=\"#\">\n",
       " <img src=\"static/images/logo.png\" style=\"height: 50px;margin-top:-15px;\"/>\n",
       " </a>,\n",
       " <a href=\"static/../index\">韬云教育</a>,\n",
       " <a href=\"static/../index_index_course\">课程中心</a>,\n",
       " <a href=\"static/../index_index_teacher\">专家师资</a>,\n",
       " <a href=\"/live/index.php\">教学直播间</a>,\n",
       " <a class=\"dropdown-toggle\" data-toggle=\"dropdown\" href=\"#\">\n",
       " \t\t\t\t\t联系我们\n",
       " \t\t\t\t\t<b class=\"caret\"></b>\n",
       " </a>,\n",
       " <a href=\"static/../index_index_company\">公司资质</a>,\n",
       " <a href=\"static/../index_index_about\">联系我们</a>,\n",
       " <a href=\"static/../index_user_register\">注册</a>,\n",
       " <a href=\"static/../index_user_login\">登录</a>]"
      ]
     },
     "execution_count": 6,
     "metadata": {},
     "output_type": "execute_result"
    }
   ],
   "source": [
    "bs1.find_all('a')"
   ]
  },
  {
   "cell_type": "code",
   "execution_count": 7,
   "metadata": {},
   "outputs": [
    {
     "data": {
      "text/plain": [
       "[<a class=\"navbar-brand\" href=\"#\">\n",
       " <img src=\"static/images/logo.png\" style=\"height: 50px;margin-top:-15px;\"/>\n",
       " </a>, <ul class=\"nav navbar-nav\">\n",
       " <li class=\"active\"><a href=\"static/../index\">韬云教育</a></li><li><a href=\"static/../index_index_course\">课程中心</a></li><li><a href=\"static/../index_index_teacher\">专家师资</a></li><li><a href=\"/live/index.php\">教学直播间</a></li>\n",
       " <li class=\"dropdown\">\n",
       " <a class=\"dropdown-toggle\" data-toggle=\"dropdown\" href=\"#\">\n",
       " \t\t\t\t\t联系我们\n",
       " \t\t\t\t\t<b class=\"caret\"></b>\n",
       " </a>\n",
       " <ul class=\"dropdown-menu\">\n",
       " <li><a href=\"static/../index_index_company\">公司资质</a></li><li class=\"divider\"></li><li><a href=\"static/../index_index_about\">联系我们</a></li>\n",
       " </ul>\n",
       " </li>\n",
       " </ul>, <a href=\"static/../index\">韬云教育</a>, <a href=\"static/../index_index_course\">课程中心</a>, <a href=\"static/../index_index_teacher\">专家师资</a>, <a href=\"/live/index.php\">教学直播间</a>, <a class=\"dropdown-toggle\" data-toggle=\"dropdown\" href=\"#\">\n",
       " \t\t\t\t\t联系我们\n",
       " \t\t\t\t\t<b class=\"caret\"></b>\n",
       " </a>, <ul class=\"dropdown-menu\">\n",
       " <li><a href=\"static/../index_index_company\">公司资质</a></li><li class=\"divider\"></li><li><a href=\"static/../index_index_about\">联系我们</a></li>\n",
       " </ul>, <a href=\"static/../index_index_company\">公司资质</a>, <a href=\"static/../index_index_about\">联系我们</a>, <ul class=\"nav navbar-nav navbar-right\">\n",
       " <li><a href=\"static/../index_user_register\">注册</a></li><li><a href=\"static/../index_user_login\">登录</a></li>\n",
       " </ul>, <a href=\"static/../index_user_register\">注册</a>, <a href=\"static/../index_user_login\">登录</a>]"
      ]
     },
     "execution_count": 7,
     "metadata": {},
     "output_type": "execute_result"
    }
   ],
   "source": [
    "# 多个标签 传递一个列表\n",
    "bs1.find_all(['a','ul'])"
   ]
  },
  {
   "cell_type": "markdown",
   "metadata": {},
   "source": [
    "## 提取所有的子节点"
   ]
  },
  {
   "cell_type": "code",
   "execution_count": 10,
   "metadata": {},
   "outputs": [
    {
     "name": "stdout",
     "output_type": "stream",
     "text": [
      "['\\n', <li class=\"active\"><a href=\"static/../index\">韬云教育</a></li>, <li><a href=\"static/../index_index_course\">课程中心</a></li>, <li><a href=\"static/../index_index_teacher\">专家师资</a></li>, <li><a href=\"/live/index.php\">教学直播间</a></li>, '\\n', <li class=\"dropdown\">\n",
      "<a class=\"dropdown-toggle\" data-toggle=\"dropdown\" href=\"#\">\r\n",
      "\t\t\t\t\t联系我们\r\n",
      "\t\t\t\t\t<b class=\"caret\"></b>\n",
      "</a>\n",
      "<ul class=\"dropdown-menu\">\n",
      "<li><a href=\"static/../index_index_company\">公司资质</a></li><li class=\"divider\"></li><li><a href=\"static/../index_index_about\">联系我们</a></li>\n",
      "</ul>\n",
      "</li>, '\\n']\n"
     ]
    }
   ],
   "source": [
    "k1=bs1.ul.contents\n",
    "print(k1)"
   ]
  },
  {
   "cell_type": "code",
   "execution_count": 11,
   "metadata": {},
   "outputs": [
    {
     "name": "stdout",
     "output_type": "stream",
     "text": [
      "<list_iterator object at 0x000001DC3DF2F208>\n",
      "['\\n', <li class=\"active\"><a href=\"static/../index\">韬云教育</a></li>, <li><a href=\"static/../index_index_course\">课程中心</a></li>, <li><a href=\"static/../index_index_teacher\">专家师资</a></li>, <li><a href=\"/live/index.php\">教学直播间</a></li>, '\\n', <li class=\"dropdown\">\n",
      "<a class=\"dropdown-toggle\" data-toggle=\"dropdown\" href=\"#\">\r\n",
      "\t\t\t\t\t联系我们\r\n",
      "\t\t\t\t\t<b class=\"caret\"></b>\n",
      "</a>\n",
      "<ul class=\"dropdown-menu\">\n",
      "<li><a href=\"static/../index_index_company\">公司资质</a></li><li class=\"divider\"></li><li><a href=\"static/../index_index_about\">联系我们</a></li>\n",
      "</ul>\n",
      "</li>, '\\n']\n"
     ]
    }
   ],
   "source": [
    "# 生成器\n",
    "k2=bs1.ul.children\n",
    "print(k2)\n",
    "allulc=[i for i in k2]\n",
    "print(allulc)"
   ]
  }
 ],
 "metadata": {
  "kernelspec": {
   "display_name": "Python 3",
   "language": "python",
   "name": "python3"
  },
  "language_info": {
   "codemirror_mode": {
    "name": "ipython",
    "version": 3
   },
   "file_extension": ".py",
   "mimetype": "text/x-python",
   "name": "python",
   "nbconvert_exporter": "python",
   "pygments_lexer": "ipython3",
   "version": "3.6.3"
  }
 },
 "nbformat": 4,
 "nbformat_minor": 2
}
