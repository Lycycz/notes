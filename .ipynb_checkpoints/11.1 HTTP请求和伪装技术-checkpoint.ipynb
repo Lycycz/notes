{
 "cells": [
  {
   "cell_type": "markdown",
   "metadata": {},
   "source": [
    "# 自动模拟HTTP请求：post get两种请求方式"
   ]
  },
  {
   "cell_type": "markdown",
   "metadata": {},
   "source": [
    "## get请求--百度信息自动搜素\n",
    "### 网址后面 ?字段=值&字段=值..."
   ]
  },
  {
   "cell_type": "markdown",
   "metadata": {},
   "source": [
    "百度搜索 http://www.baidu.com/s?wd=\n",
    "wd=后面的是搜索的内容"
   ]
  },
  {
   "cell_type": "code",
   "execution_count": 3,
   "metadata": {},
   "outputs": [
    {
     "name": "stdout",
     "output_type": "stream",
     "text": [
      "['Python_百度搜索']\n"
     ]
    }
   ],
   "source": [
    "import urllib.request\n",
    "import re\n",
    "keyword='Python'\n",
    "url='http://www.baidu.com/s?wd='+keyword\n",
    "file=urllib.request.urlopen(url).read().decode('utf-8')\n",
    "pat='<title>(.*?)</title>'\n",
    "rst=re.compile(pat).findall(file)\n",
    "print(rst)"
   ]
  },
  {
   "cell_type": "markdown",
   "metadata": {},
   "source": [
    "### 页码是 pn= 后面的数"
   ]
  },
  {
   "cell_type": "code",
   "execution_count": 9,
   "metadata": {},
   "outputs": [
    {
     "name": "stdout",
     "output_type": "stream",
     "text": [
      "['Python_百度搜索'] ['Python_百度搜索'] ['Python_百度搜索'] ['Python_百度搜索'] ['Python_百度搜索'] ['Python_百度搜索'] ['Python_百度搜索'] ['Python_百度搜索'] ['Python_百度搜索'] ['Python_百度搜索'] "
     ]
    }
   ],
   "source": [
    "import urllib.request\n",
    "import re\n",
    "keyword='Python'\n",
    "#page=num*10\n",
    "for i in range(0,10):\n",
    "    url='http://www.baidu.com/s?wd='+keyword+'&pn='+str(i*10)\n",
    "    file=urllib.request.urlopen(url).read().decode('utf-8')\n",
    "    pat='<title>(.*?)</title>'\n",
    "    rst=re.compile(pat).findall(file)\n",
    "    print(rst,end=' ')"
   ]
  },
  {
   "cell_type": "markdown",
   "metadata": {},
   "source": [
    "## post请求"
   ]
  },
  {
   "cell_type": "code",
   "execution_count": 11,
   "metadata": {},
   "outputs": [
    {
     "name": "stdout",
     "output_type": "stream",
     "text": [
      "<html>\r\n",
      "<head>\r\n",
      "<title>Post Test Page</title>\r\n",
      "</head>\r\n",
      "\r\n",
      "<body>\r\n",
      "<form action=\"\" method=\"post\">\r\n",
      "name:<input name=\"name\" type=\"text\" /><br>\r\n",
      "passwd:<input name=\"pass\" type=\"text\" /><br>\r\n",
      "<input name=\"\" type=\"submit\" value=\"submit\" />\r\n",
      "<br />\r\n",
      "you input name is:lyc<br>you input passwd is:123</body>\r\n",
      "</html>\n"
     ]
    }
   ],
   "source": [
    "import urllib.request\n",
    "#设置对应内容\n",
    "import urllib.parse\n",
    "#真实的post地址\n",
    "posturl='http://www.iqianyue.com/mypost/'\n",
    "#将表单填入数据\n",
    "postdata=urllib.parse.urlencode({\n",
    "    'name':'lyc',\n",
    "    'pass':'123',\n",
    "    }).encode('utf-8')\n",
    "#进行post，需要用urllib.request下面的Request(真实post地址，post数据)\n",
    "req=urllib.request.Request(posturl,postdata)\n",
    "rst=urllib.request.urlopen(req).read().decode('utf-8')\n",
    "print(rst)"
   ]
  },
  {
   "cell_type": "markdown",
   "metadata": {},
   "source": [
    "# 异常处理\n",
    "\n",
    "## URLError：\n",
    "出现的原因 1）连不上服务器 2）远程url不存在 3）无网络 4）触发HTTPError"
   ]
  },
  {
   "cell_type": "code",
   "execution_count": 7,
   "metadata": {},
   "outputs": [],
   "source": [
    "import urllib.request\n",
    "import urllib.error\n",
    "try:\n",
    "    urllib.request.urlopen('http://blog.csdn.net')\n",
    "except urllib.error.URLError as err:\n",
    "    if hasattr(err,'code'):\n",
    "        print(err.code)\n",
    "    elif hasattr(err,'reason'):\n",
    "        print(err.reason)"
   ]
  },
  {
   "cell_type": "markdown",
   "metadata": {},
   "source": [
    "# 浏览器伪装原理: 修改报头来进行伪装浏览器\n",
    "\n",
    "## urllib.request.build_opener()或者urllib.request.Request()下的add_header()"
   ]
  },
  {
   "cell_type": "code",
   "execution_count": 9,
   "metadata": {},
   "outputs": [
    {
     "name": "stdout",
     "output_type": "stream",
     "text": [
      "63094\n"
     ]
    }
   ],
   "source": [
    "import urllib.request\n",
    "url='http://blog.csdn.net'\n",
    "#头文件格式header=('User-Agent':具体用户代理值)\n",
    "headers=(\"User-Agent\",\"Mozilla/5.0 (Windows NT 10.0; WOW64) AppleWebKit/537.36 (KHTML, like Gecko) Chrome/61.0.3163.100 Safari/537.36\")\n",
    "opener=urllib.request.build_opener()\n",
    "opener.add_headers=[headers]\n",
    "data=opener.open(url).read()\n",
    "print(len(data))"
   ]
  }
 ],
 "metadata": {
  "kernelspec": {
   "display_name": "Python 3",
   "language": "python",
   "name": "python3"
  },
  "language_info": {
   "codemirror_mode": {
    "name": "ipython",
    "version": 3
   },
   "file_extension": ".py",
   "mimetype": "text/x-python",
   "name": "python",
   "nbconvert_exporter": "python",
   "pygments_lexer": "ipython3",
   "version": "3.6.3"
  }
 },
 "nbformat": 4,
 "nbformat_minor": 2
}
