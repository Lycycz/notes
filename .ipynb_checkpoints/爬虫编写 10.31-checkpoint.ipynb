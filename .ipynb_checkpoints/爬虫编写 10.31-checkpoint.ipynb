{
 "cells": [
  {
   "cell_type": "markdown",
   "metadata": {},
   "source": [
    "# 简单爬虫编写"
   ]
  },
  {
   "cell_type": "markdown",
   "metadata": {},
   "source": [
    "因为数据量很大，尽量不要直接打印，打印的话用readline()打印一行"
   ]
  },
  {
   "cell_type": "code",
   "execution_count": 2,
   "metadata": {},
   "outputs": [
    {
     "name": "stdout",
     "output_type": "stream",
     "text": [
      "b'<!DOCTYPE HTML>\\n'\n"
     ]
    }
   ],
   "source": [
    "import urllib.request\n",
    "data=urllib.request.urlopen('http://www.csdn.net').readline()\n",
    "print(data)"
   ]
  },
  {
   "cell_type": "markdown",
   "metadata": {},
   "source": [
    "# 自动提取课程页面的微信号"
   ]
  },
  {
   "cell_type": "markdown",
   "metadata": {},
   "source": [
    "直接将对应字段复制进行修改，？代表贪婪模式，（）内是想要匹配的字符，decode(\"utf-8\")将网页编码转换便于提取信息"
   ]
  },
  {
   "cell_type": "code",
   "execution_count": 10,
   "metadata": {},
   "outputs": [
    {
     "name": "stdout",
     "output_type": "stream",
     "text": [
      "['csdncxrs']\n"
     ]
    }
   ],
   "source": [
    "import urllib.request\n",
    "import re\n",
    "data=urllib.request.urlopen('http://edu.csdn.net/huiyiCourse/detail/594').read().decode(\"utf-8\")\n",
    "pat='<p> 微信：(.*?)</p>'\n",
    "rst=re.compile(pat).findall(data)\n",
    "print(rst)"
   ]
  }
 ],
 "metadata": {
  "kernelspec": {
   "display_name": "Python 3",
   "language": "python",
   "name": "python3"
  },
  "language_info": {
   "codemirror_mode": {
    "name": "ipython",
    "version": 3
   },
   "file_extension": ".py",
   "mimetype": "text/x-python",
   "name": "python",
   "nbconvert_exporter": "python",
   "pygments_lexer": "ipython3",
   "version": "3.6.3"
  }
 },
 "nbformat": 4,
 "nbformat_minor": 2
}
