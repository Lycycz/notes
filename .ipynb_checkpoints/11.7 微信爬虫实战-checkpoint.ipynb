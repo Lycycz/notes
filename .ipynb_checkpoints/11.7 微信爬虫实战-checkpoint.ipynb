{
 "cells": [
  {
   "cell_type": "markdown",
   "metadata": {},
   "source": [
    "# 微信爬虫实战"
   ]
  },
  {
   "cell_type": "code",
   "execution_count": null,
   "metadata": {
    "collapsed": true
   },
   "outputs": [],
   "source": [
    "#运用上面的函数ua_ip(thisurl,delaytime)\n",
    "#将ua_ip函数封装到ex模块中\n",
    "from ex import *\n",
    "from urllib import request\n",
    "key=\"Python\"\n",
    "for i in range(0,10):\n",
    "    key=request.quote(key)\n",
    "    thispageurl='http://weixin.sogou.com/weixin?type=2&query='+key+'&page='+str(i+1)+'&ie=utf8'\n",
    "    thispagedata=ua_ip(thispageurl,5)\n",
    "    print(len(thispagedata))"
   ]
  },
  {
   "cell_type": "markdown",
   "metadata": {},
   "source": [
    "## 爬每篇文章存到本地"
   ]
  },
  {
   "cell_type": "code",
   "execution_count": null,
   "metadata": {
    "collapsed": true
   },
   "outputs": [],
   "source": [
    "from ex import *\n",
    "from urllib import request\n",
    "import re\n",
    "key=\"Python\"\n",
    "for i in range(0,10):\n",
    "    key=request.quote(key)\n",
    "    thispageurl='http://weixin.sogou.com/weixin?oq=&type=2&query='+key+'&page='+str(i+1)+'&ie=utf8'\n",
    "    #thispageurl='http://weixin.sogou.com/weixin?type=2&query='+key+'&page='+str(1)+'&ie=utf8'\n",
    "    thispagedata=ua_ip(thispageurl,5)\n",
    "    print(len(thispagedata))\n",
    "    pat='<div class=\"txt-box\">.*?href=\"(.*?)\"'\n",
    "    rst1=re.compile(pat,re.S).findall(thispagedata)\n",
    "    if(len(rst1)==0):\n",
    "        print(\"这一页爬取失败\")\n",
    "        continue\n",
    "    for j in range(0,len(rst1)):\n",
    "        thisurl=rst1[j]\n",
    "        pat2='amp;'\n",
    "        thisurl=thisurl.replace(pat2,'')\n",
    "        print(thisurl)\n",
    "        thisdata=ua_ip(thisurl,5)\n",
    "        print('这一页爬取成功')\n",
    "        with open(\".\\\\\"+str(i)+str(j)+'.html','w',encoding='utf-8') as file:\n",
    "            file.write(thisdata)"
   ]
  }
 ],
 "metadata": {
  "kernelspec": {
   "display_name": "Python 3",
   "language": "python",
   "name": "python3"
  },
  "language_info": {
   "codemirror_mode": {
    "name": "ipython",
    "version": 3
   },
   "file_extension": ".py",
   "mimetype": "text/x-python",
   "name": "python",
   "nbconvert_exporter": "python",
   "pygments_lexer": "ipython3",
   "version": "3.6.3"
  }
 },
 "nbformat": 4,
 "nbformat_minor": 2
}
