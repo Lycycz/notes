{
 "cells": [
  {
   "cell_type": "markdown",
   "metadata": {},
   "source": [
    "# 新闻爬虫实战\n",
    "\n",
    "## 爬取网易新闻首页所有新闻内容"
   ]
  },
  {
   "cell_type": "code",
   "execution_count": 19,
   "metadata": {},
   "outputs": [
    {
     "name": "stdout",
     "output_type": "stream",
     "text": [
      "['http://news.163.com/17/1014/00/D0LSBDIP0001885B.html', 'http://news.163.com/17/1012/00/D0GN1VBC0001885B.html', 'http://news.163.com/17/0917/00/CUGB54C70001885B.html', 'http://news.163.com/17/0910/00/CTUAVNDK0001885B.html', 'http://news.163.com/17/0922/00/CUT9K2910001885B.html', 'http://news.163.com/17/0915/00/CUB7CO950001885B.html', 'http://news.163.com/17/1031/17/D23HCQE1000181BR.html', 'http://news.163.com/17/1030/19/D21475QO000181BR.html', 'http://news.163.com/17/1101/20/D26E32M5000189FH.html', 'http://news.163.com/17/1101/22/D26LK5V100018AOR.html', 'http://news.163.com/17/1102/00/D26SNQSM0001899N.html', 'http://news.163.com/17/1102/01/D26TIPV4000187VI.html', 'http://news.163.com/17/1102/08/D27L79GT0001899O.html', 'http://news.163.com/17/1102/02/D270IAVH0001899N.html', 'http://news.163.com/17/1102/01/D26TIMRK000187VI.html', 'http://news.163.com/17/1102/00/D26PJJT70001899N.html', 'http://news.163.com/16/0721/19/BSH7V8QF00014JB6.html', 'http://news.163.com/16/0721/10/BSG7HOH20001124J.html', 'http://news.163.com/16/0721/12/BSGHHVLK00011229.html', 'http://news.163.com/17/1102/09/D27OGBV50001885B.html', 'http://news.163.com/17/1014/00/D0LSBDIP0001885B.html', 'http://news.163.com/17/1012/00/D0GN1VBC0001885B.html', 'http://news.163.com/17/0917/00/CUGB54C70001885B.html', 'http://news.163.com/17/0910/00/CTUAVNDK0001885B.html', 'http://news.163.com/17/0922/00/CUT9K2910001885B.html', 'http://news.163.com/17/0915/00/CUB7CO950001885B.html', 'http://news.163.com/17/1031/17/D23HCQE1000181BR.html', 'http://news.163.com/17/1030/19/D21475QO000181BR.html', 'http://news.163.com/17/1027/17/D1P5DDGB000194VU.html', 'http://news.163.com/17/1031/17/D23IAB8O0001899O.html', 'http://news.163.com/17/1031/08/D22J8F43000189FH.html', 'http://news.163.com/17/1101/09/D258MLDE0001875O.html', 'http://news.163.com/17/1102/01/D26TIMRK000187VI.html', 'http://news.163.com/17/1101/19/D26B9PRM0001899O.html', 'http://news.163.com/17/1101/14/D25QA2P50001875P.html', 'http://news.163.com/17/1101/10/D25BAB3C0001875P.html', 'http://news.163.com/17/1101/19/D26BEH950001875P.html']\n"
     ]
    }
   ],
   "source": [
    "import urllib.request\n",
    "import re\n",
    "url='http://news.163.com/'\n",
    "headers=(\"User-Agent\",\"Mozilla/5.0 (Windows NT 10.0; WOW64) AppleWebKit/537.36 (KHTML, like Gecko) Chrome/61.0.3163.100 Safari/537.36\")\n",
    "opener=urllib.request.build_opener()\n",
    "opener.add_headers=[headers]\n",
    "data=opener.open(url).read().decode(\"UTF-8\",\"ignore\")\n",
    "pat='<a href=\"(http://news.163.com/\\d+.*?.html)\">'\n",
    "rst=re.compile(pat).findall(data)\n",
    "print(rst)"
   ]
  },
  {
   "cell_type": "markdown",
   "metadata": {},
   "source": [
    "## 爬取每个页面的网址记录下来"
   ]
  },
  {
   "cell_type": "code",
   "execution_count": 1,
   "metadata": {},
   "outputs": [
    {
     "name": "stdout",
     "output_type": "stream",
     "text": [
      "24 24 24 24 24 24 24 24 0 24 24 24 24 24 24 24 24 24 24 24 24 24 24 24 24 24 24 24 24 0 0 24 24 24 24 24 24 24 "
     ]
    }
   ],
   "source": [
    "for i in range(0,len(rst)):\n",
    "    thislink=rst[i]\n",
    "    thispage=urllib.request.urlopen(thislink).read().decode('utf-8','ignore')\n",
    "    pat1='<a href=\"(http://news.163.com/\\d+.*?.html)\">'\n",
    "    islink=re.compile(pat1).findall(thispage)\n",
    "    print(len(islink),end=' ')"
   ]
  }
 ],
 "metadata": {
  "kernelspec": {
   "display_name": "Python 3",
   "language": "python",
   "name": "python3"
  },
  "language_info": {
   "codemirror_mode": {
    "name": "ipython",
    "version": 3
   },
   "file_extension": ".py",
   "mimetype": "text/x-python",
   "name": "python",
   "nbconvert_exporter": "python",
   "pygments_lexer": "ipython3",
   "version": "3.6.3"
  }
 },
 "nbformat": 4,
 "nbformat_minor": 2
}
